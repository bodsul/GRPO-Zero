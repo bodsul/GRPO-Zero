{
 "cells": [
  {
   "cell_type": "code",
   "execution_count": 1,
   "id": "226503a4-027d-4b33-8498-0de7eb62fdf5",
   "metadata": {},
   "outputs": [
    {
     "name": "stdout",
     "output_type": "stream",
     "text": [
      "Cloning into 'gsm8k'...\n",
      "remote: Enumerating objects: 41, done.\u001b[K\n",
      "remote: Counting objects: 100% (41/41), done.\u001b[K\n",
      "remote: Compressing objects: 100% (27/27), done.\u001b[K\n",
      "remote: Total 41 (delta 12), reused 28 (delta 9), pack-reused 0 (from 0)\u001b[K\n",
      "Unpacking objects: 100% (41/41), 10.31 KiB | 1.03 MiB/s, done.\n"
     ]
    }
   ],
   "source": [
    "# !git clone https://huggingface.co/datasets/openai/gsm8k"
   ]
  },
  {
   "cell_type": "code",
   "execution_count": 8,
   "id": "b42cfd7b-e447-4d6b-9f30-03942b684b20",
   "metadata": {},
   "outputs": [],
   "source": [
    "import pandas as pd\n",
    "from pathlib import Path"
   ]
  },
  {
   "cell_type": "code",
   "execution_count": 12,
   "id": "6dc1676f-9acd-43f6-8edd-78ac9c68c8ec",
   "metadata": {},
   "outputs": [],
   "source": [
    "data_path = 'gsm8k'\n",
    "data = pd.read_parquet(Path(data_path) / \"main\")"
   ]
  },
  {
   "cell_type": "code",
   "execution_count": 10,
   "id": "8fdf4aae-1c76-4a84-9ef7-c9fdc54ec80c",
   "metadata": {},
   "outputs": [
    {
     "name": "stdout",
     "output_type": "stream",
     "text": [
      "Collecting fastparquet\n",
      "  Downloading fastparquet-2024.11.0-cp310-cp310-manylinux_2_17_x86_64.manylinux2014_x86_64.whl.metadata (4.2 kB)\n",
      "Requirement already satisfied: pandas>=1.5.0 in /usr/local/lib/python3.10/dist-packages (from fastparquet) (2.2.3)\n",
      "Requirement already satisfied: numpy in /usr/local/lib/python3.10/dist-packages (from fastparquet) (1.24.1)\n",
      "Collecting cramjam>=2.3 (from fastparquet)\n",
      "  Downloading cramjam-2.10.0-cp310-cp310-manylinux_2_17_x86_64.manylinux2014_x86_64.whl.metadata (5.0 kB)\n",
      "Requirement already satisfied: fsspec in /usr/local/lib/python3.10/dist-packages (from fastparquet) (2023.4.0)\n",
      "Requirement already satisfied: packaging in /usr/local/lib/python3.10/dist-packages (from fastparquet) (23.2)\n",
      "Requirement already satisfied: python-dateutil>=2.8.2 in /usr/local/lib/python3.10/dist-packages (from pandas>=1.5.0->fastparquet) (2.8.2)\n",
      "Requirement already satisfied: pytz>=2020.1 in /usr/local/lib/python3.10/dist-packages (from pandas>=1.5.0->fastparquet) (2025.2)\n",
      "Requirement already satisfied: tzdata>=2022.7 in /usr/local/lib/python3.10/dist-packages (from pandas>=1.5.0->fastparquet) (2025.2)\n",
      "Requirement already satisfied: six>=1.5 in /usr/lib/python3/dist-packages (from python-dateutil>=2.8.2->pandas>=1.5.0->fastparquet) (1.16.0)\n",
      "Downloading fastparquet-2024.11.0-cp310-cp310-manylinux_2_17_x86_64.manylinux2014_x86_64.whl (1.7 MB)\n",
      "\u001b[2K   \u001b[90m━━━━━━━━━━━━━━━━━━━━━━━━━━━━━━━━━━━━━━━━\u001b[0m \u001b[32m1.7/1.7 MB\u001b[0m \u001b[31m21.4 MB/s\u001b[0m eta \u001b[36m0:00:00\u001b[0ma \u001b[36m0:00:01\u001b[0m\n",
      "\u001b[?25hDownloading cramjam-2.10.0-cp310-cp310-manylinux_2_17_x86_64.manylinux2014_x86_64.whl (2.0 MB)\n",
      "\u001b[2K   \u001b[90m━━━━━━━━━━━━━━━━━━━━━━━━━━━━━━━━━━━━━━━━\u001b[0m \u001b[32m2.0/2.0 MB\u001b[0m \u001b[31m112.0 MB/s\u001b[0m eta \u001b[36m0:00:00\u001b[0m\n",
      "\u001b[?25hInstalling collected packages: cramjam, fastparquet\n",
      "Successfully installed cramjam-2.10.0 fastparquet-2024.11.0\n",
      "\u001b[33mWARNING: Running pip as the 'root' user can result in broken permissions and conflicting behaviour with the system package manager. It is recommended to use a virtual environment instead: https://pip.pypa.io/warnings/venv\u001b[0m\u001b[33m\n",
      "\u001b[0m\n",
      "\u001b[1m[\u001b[0m\u001b[34;49mnotice\u001b[0m\u001b[1;39;49m]\u001b[0m\u001b[39;49m A new release of pip is available: \u001b[0m\u001b[31;49m23.3.1\u001b[0m\u001b[39;49m -> \u001b[0m\u001b[32;49m25.0.1\u001b[0m\n",
      "\u001b[1m[\u001b[0m\u001b[34;49mnotice\u001b[0m\u001b[1;39;49m]\u001b[0m\u001b[39;49m To update, run: \u001b[0m\u001b[32;49mpython -m pip install --upgrade pip\u001b[0m\n"
     ]
    }
   ],
   "source": [
    "!pip install fastparquet"
   ]
  },
  {
   "cell_type": "code",
   "execution_count": 19,
   "id": "b41b4e4c-7cc1-4989-afd7-e3dfc7d35b3f",
   "metadata": {},
   "outputs": [
    {
     "data": {
      "text/plain": [
       "'Janet sells 16 - 3 - 4 = <<16-3-4=9>>9 duck eggs a day.\\nShe makes 9 * 2 = $<<9*2=18>>18 every day at the farmer’s market.\\n#### 18'"
      ]
     },
     "execution_count": 19,
     "metadata": {},
     "output_type": "execute_result"
    }
   ],
   "source": [
    "data.iloc[0].answer"
   ]
  },
  {
   "cell_type": "code",
   "execution_count": 17,
   "id": "5a90bfc8-1dff-4659-ac69-4c233ae65e72",
   "metadata": {},
   "outputs": [
    {
     "name": "stdout",
     "output_type": "stream",
     "text": [
      "\u001b[2mResolved \u001b[1m63 packages\u001b[0m \u001b[2min 0.60ms\u001b[0m\u001b[0m\n",
      "\u001b[2mAudited \u001b[1m61 packages\u001b[0m \u001b[2min 0.02ms\u001b[0m\u001b[0m\n"
     ]
    }
   ],
   "source": [
    "!uv sync"
   ]
  },
  {
   "cell_type": "code",
   "execution_count": 20,
   "id": "961c0fa6-9a4f-4a7c-9470-915b70022175",
   "metadata": {},
   "outputs": [],
   "source": [
    "import re\n",
    "\n",
    "\n",
    "def extract_solution(solution_str, method='strict'):\n",
    "    assert method in ['strict', 'flexible']\n",
    "\n",
    "    if method == 'strict':\n",
    "        # this also tests the formatting of the model\n",
    "        solution = re.search(\"#### (\\\\-?[0-9\\\\.\\\\,]+)\", solution_str)\n",
    "        if solution is None:\n",
    "            final_answer = None\n",
    "        else:\n",
    "            final_answer = solution.group(0)\n",
    "            final_answer = final_answer.split('#### ')[1].replace(',', '').replace('$', '')\n",
    "    elif method == 'flexible':\n",
    "        answer = re.findall(\"(\\\\-?[0-9\\\\.\\\\,]+)\", solution_str)\n",
    "        final_answer = None\n",
    "        if len(answer) == 0:\n",
    "            # no reward is there is no answer\n",
    "            pass\n",
    "        else:\n",
    "            invalid_str = ['', '.']\n",
    "            # find the last number that is not '.'\n",
    "            for final_answer in reversed(answer):\n",
    "                if final_answer not in invalid_str:\n",
    "                    break\n",
    "    return final_answer\n",
    "\n",
    "\n",
    "def compute_score(solution_str, ground_truth, method='strict', format_score=0., score=1.):\n",
    "    \"\"\"The scoring function for GSM8k.\n",
    "\n",
    "    Reference: Trung, Luong, et al. \"Reft: Reasoning with reinforced fine-tuning.\" Proceedings of the 62nd Annual Meeting of the Association for Computational Linguistics (Volume 1: Long Papers). 2024.\n",
    "\n",
    "    Args:\n",
    "        solution_str: the solution text\n",
    "        ground_truth: the ground truth\n",
    "        method: the method to extract the solution, choices are 'strict' and 'flexible'\n",
    "        format_score: the score for the format\n",
    "        score: the score for the correct answer\n",
    "    \"\"\"\n",
    "    answer = extract_solution(solution_str=solution_str, method=method)\n",
    "    if answer is None:\n",
    "        return 0\n",
    "    else:\n",
    "        if answer == ground_truth:\n",
    "            return score\n",
    "        else:\n",
    "            return format_score"
   ]
  },
  {
   "cell_type": "code",
   "execution_count": 21,
   "id": "8c9257fd-d4e9-4447-97a4-68e27d1530b5",
   "metadata": {},
   "outputs": [],
   "source": [
    "question = data.iloc[0].question\n",
    "answer = '18'"
   ]
  },
  {
   "cell_type": "code",
   "execution_count": 23,
   "id": "e76fe9e9-0a1b-4aec-895f-a335afb6ca92",
   "metadata": {},
   "outputs": [
    {
     "data": {
      "text/plain": [
       "0.1"
      ]
     },
     "execution_count": 23,
     "metadata": {},
     "output_type": "execute_result"
    }
   ],
   "source": [
    "compute_score(data.iloc[0].answer, answer, format_score=0.1)"
   ]
  },
  {
   "cell_type": "code",
   "execution_count": 25,
   "id": "49456854-3558-40bf-ba9b-42fd0cb19da6",
   "metadata": {},
   "outputs": [
    {
     "name": "stdout",
     "output_type": "stream",
     "text": [
      "18\n"
     ]
    }
   ],
   "source": [
    "print(extract_solution(data.iloc[0].answer))"
   ]
  },
  {
   "cell_type": "code",
   "execution_count": 27,
   "id": "c003646d-49c4-4112-bcf8-fa9d11ba0a35",
   "metadata": {},
   "outputs": [
    {
     "data": {
      "text/plain": [
       "'Janet sells 16 - 3 - 4 = <<16-3-4=9>>9 duck eggs a day.\\nShe makes 9 * 2 = $<<9*2=18>>18 every day at the farmer’s market.\\n#### 18'"
      ]
     },
     "execution_count": 27,
     "metadata": {},
     "output_type": "execute_result"
    }
   ],
   "source": [
    "data.iloc[0].answer"
   ]
  },
  {
   "cell_type": "code",
   "execution_count": 43,
   "id": "50a4473a-8a71-4ab8-b403-9d50505150fb",
   "metadata": {},
   "outputs": [],
   "source": [
    "SYSTEM_MESSAGE = (\n",
    "    \"You are a helpful assistant. You first think about the reasoning process \"\n",
    "    \"in your mind and then provide the user with the answer.\"\n",
    ")\n",
    "USER_TEMPLATE = (\n",
    "    \"{question} \"\n",
    "    \"The final answer should be prefixed with #### and should appear after the reasoning\"\n",
    ")\n",
    "RESPONSE_PROMPT = \"Let me solve this step by step.\""
   ]
  },
  {
   "cell_type": "code",
   "execution_count": 34,
   "id": "4d51f271-9a3a-4827-9ba5-c1160302643c",
   "metadata": {},
   "outputs": [],
   "source": [
    "from tokenizer import Tokenizer"
   ]
  },
  {
   "cell_type": "code",
   "execution_count": 33,
   "id": "6b30638f-6c21-4507-8162-6fb0e925728d",
   "metadata": {},
   "outputs": [
    {
     "name": "stdout",
     "output_type": "stream",
     "text": [
      "Collecting tokenizers\n",
      "  Downloading tokenizers-0.21.1-cp39-abi3-manylinux_2_17_x86_64.manylinux2014_x86_64.whl.metadata (6.8 kB)\n",
      "Collecting huggingface-hub<1.0,>=0.16.4 (from tokenizers)\n",
      "  Downloading huggingface_hub-0.30.2-py3-none-any.whl.metadata (13 kB)\n",
      "Requirement already satisfied: filelock in /usr/local/lib/python3.10/dist-packages (from huggingface-hub<1.0,>=0.16.4->tokenizers) (3.9.0)\n",
      "Collecting fsspec>=2023.5.0 (from huggingface-hub<1.0,>=0.16.4->tokenizers)\n",
      "  Downloading fsspec-2025.3.2-py3-none-any.whl.metadata (11 kB)\n",
      "Requirement already satisfied: packaging>=20.9 in /usr/local/lib/python3.10/dist-packages (from huggingface-hub<1.0,>=0.16.4->tokenizers) (23.2)\n",
      "Requirement already satisfied: pyyaml>=5.1 in /usr/local/lib/python3.10/dist-packages (from huggingface-hub<1.0,>=0.16.4->tokenizers) (6.0.1)\n",
      "Requirement already satisfied: requests in /usr/local/lib/python3.10/dist-packages (from huggingface-hub<1.0,>=0.16.4->tokenizers) (2.31.0)\n",
      "Collecting tqdm>=4.42.1 (from huggingface-hub<1.0,>=0.16.4->tokenizers)\n",
      "  Downloading tqdm-4.67.1-py3-none-any.whl.metadata (57 kB)\n",
      "\u001b[2K     \u001b[90m━━━━━━━━━━━━━━━━━━━━━━━━━━━━━━━━━━━━━━━━\u001b[0m \u001b[32m57.7/57.7 kB\u001b[0m \u001b[31m3.4 MB/s\u001b[0m eta \u001b[36m0:00:00\u001b[0m\n",
      "\u001b[?25hRequirement already satisfied: typing-extensions>=3.7.4.3 in /usr/local/lib/python3.10/dist-packages (from huggingface-hub<1.0,>=0.16.4->tokenizers) (4.4.0)\n",
      "Requirement already satisfied: charset-normalizer<4,>=2 in /usr/local/lib/python3.10/dist-packages (from requests->huggingface-hub<1.0,>=0.16.4->tokenizers) (2.1.1)\n",
      "Requirement already satisfied: idna<4,>=2.5 in /usr/local/lib/python3.10/dist-packages (from requests->huggingface-hub<1.0,>=0.16.4->tokenizers) (3.4)\n",
      "Requirement already satisfied: urllib3<3,>=1.21.1 in /usr/local/lib/python3.10/dist-packages (from requests->huggingface-hub<1.0,>=0.16.4->tokenizers) (1.26.13)\n",
      "Requirement already satisfied: certifi>=2017.4.17 in /usr/local/lib/python3.10/dist-packages (from requests->huggingface-hub<1.0,>=0.16.4->tokenizers) (2022.12.7)\n",
      "Downloading tokenizers-0.21.1-cp39-abi3-manylinux_2_17_x86_64.manylinux2014_x86_64.whl (3.0 MB)\n",
      "\u001b[2K   \u001b[90m━━━━━━━━━━━━━━━━━━━━━━━━━━━━━━━━━━━━━━━━\u001b[0m \u001b[32m3.0/3.0 MB\u001b[0m \u001b[31m83.1 MB/s\u001b[0m eta \u001b[36m0:00:00\u001b[0m00:01\u001b[0m\n",
      "\u001b[?25hDownloading huggingface_hub-0.30.2-py3-none-any.whl (481 kB)\n",
      "\u001b[2K   \u001b[90m━━━━━━━━━━━━━━━━━━━━━━━━━━━━━━━━━━━━━━━\u001b[0m \u001b[32m481.4/481.4 kB\u001b[0m \u001b[31m122.6 MB/s\u001b[0m eta \u001b[36m0:00:00\u001b[0m\n",
      "\u001b[?25hDownloading fsspec-2025.3.2-py3-none-any.whl (194 kB)\n",
      "\u001b[2K   \u001b[90m━━━━━━━━━━━━━━━━━━━━━━━━━━━━━━━━━━━━━━━━\u001b[0m \u001b[32m194.4/194.4 kB\u001b[0m \u001b[31m76.7 MB/s\u001b[0m eta \u001b[36m0:00:00\u001b[0m\n",
      "\u001b[?25hDownloading tqdm-4.67.1-py3-none-any.whl (78 kB)\n",
      "\u001b[2K   \u001b[90m━━━━━━━━━━━━━━━━━━━━━━━━━━━━━━━━━━━━━━━━\u001b[0m \u001b[32m78.5/78.5 kB\u001b[0m \u001b[31m35.9 MB/s\u001b[0m eta \u001b[36m0:00:00\u001b[0m\n",
      "\u001b[?25hInstalling collected packages: tqdm, fsspec, huggingface-hub, tokenizers\n",
      "  Attempting uninstall: fsspec\n",
      "    Found existing installation: fsspec 2023.4.0\n",
      "    Uninstalling fsspec-2023.4.0:\n",
      "      Successfully uninstalled fsspec-2023.4.0\n",
      "Successfully installed fsspec-2025.3.2 huggingface-hub-0.30.2 tokenizers-0.21.1 tqdm-4.67.1\n",
      "\u001b[33mWARNING: Running pip as the 'root' user can result in broken permissions and conflicting behaviour with the system package manager. It is recommended to use a virtual environment instead: https://pip.pypa.io/warnings/venv\u001b[0m\u001b[33m\n",
      "\u001b[0m\n",
      "\u001b[1m[\u001b[0m\u001b[34;49mnotice\u001b[0m\u001b[1;39;49m]\u001b[0m\u001b[39;49m A new release of pip is available: \u001b[0m\u001b[31;49m23.3.1\u001b[0m\u001b[39;49m -> \u001b[0m\u001b[32;49m25.0.1\u001b[0m\n",
      "\u001b[1m[\u001b[0m\u001b[34;49mnotice\u001b[0m\u001b[1;39;49m]\u001b[0m\u001b[39;49m To update, run: \u001b[0m\u001b[32;49mpython -m pip install --upgrade pip\u001b[0m\n"
     ]
    }
   ],
   "source": [
    "!pip install tokenizers"
   ]
  },
  {
   "cell_type": "code",
   "execution_count": 38,
   "id": "a631b7d0-9a5b-47f3-8445-9fb21e334070",
   "metadata": {},
   "outputs": [],
   "source": [
    "pretrained_model_path = Path(\"Qwen2.5-3B-Instruct\")\n",
    "tokenizer = Tokenizer(str(pretrained_model_path / \"tokenizer.json\"))"
   ]
  },
  {
   "cell_type": "code",
   "execution_count": 44,
   "id": "ce09cd8c-8ab0-4114-84d5-ec1664820ba8",
   "metadata": {},
   "outputs": [],
   "source": [
    "def encode_prefix(question: str):\n",
    "    \"\"\"Prefix is the *actual* input to the model.\"\"\"\n",
    "    user_message = USER_TEMPLATE.format(question=question)\n",
    "    prefix = tokenizer.encode_chat_with_response_prompt(\n",
    "        [\n",
    "            {\"role\": \"system\", \"content\": SYSTEM_MESSAGE},\n",
    "            {\"role\": \"user\", \"content\": user_message},\n",
    "        ],\n",
    "        RESPONSE_PROMPT,\n",
    "    )\n",
    "    tokens = tokenizer.tokenize(prefix)\n",
    "    return {\n",
    "        \"prefix\": prefix,\n",
    "        \"prefix_tokens\": tokens.tokens,\n",
    "        \"prefix_token_ids\": tokens.ids,\n",
    "    }"
   ]
  },
  {
   "cell_type": "code",
   "execution_count": 45,
   "id": "1321924e-f2bb-48ea-bc85-5d8bb94544a9",
   "metadata": {},
   "outputs": [
    {
     "data": {
      "text/plain": [
       "{'prefix': \"<|im_start|>system\\nYou are a helpful assistant. You first think about the reasoning process in your mind and then provide the user with the answer.<|im_end|>\\n<|im_start|>user\\nJanet’s ducks lay 16 eggs per day. She eats three for breakfast every morning and bakes muffins for her friends every day with four. She sells the remainder at the farmers' market daily for $2 per fresh duck egg. How much in dollars does she make every day at the farmers' market? The final answer should be prefixed with #### and should appear after the reasoning<|im_end|>\\n<|im_start|>assistant\\nLet me solve this step by step.\",\n",
       " 'prefix_tokens': ['<|im_start|>',\n",
       "  'system',\n",
       "  'Ċ',\n",
       "  'You',\n",
       "  'Ġare',\n",
       "  'Ġa',\n",
       "  'Ġhelpful',\n",
       "  'Ġassistant',\n",
       "  '.',\n",
       "  'ĠYou',\n",
       "  'Ġfirst',\n",
       "  'Ġthink',\n",
       "  'Ġabout',\n",
       "  'Ġthe',\n",
       "  'Ġreasoning',\n",
       "  'Ġprocess',\n",
       "  'Ġin',\n",
       "  'Ġyour',\n",
       "  'Ġmind',\n",
       "  'Ġand',\n",
       "  'Ġthen',\n",
       "  'Ġprovide',\n",
       "  'Ġthe',\n",
       "  'Ġuser',\n",
       "  'Ġwith',\n",
       "  'Ġthe',\n",
       "  'Ġanswer',\n",
       "  '.',\n",
       "  '<|im_end|>',\n",
       "  'Ċ',\n",
       "  '<|im_start|>',\n",
       "  'user',\n",
       "  'Ċ',\n",
       "  'Jan',\n",
       "  'et',\n",
       "  'âĢĻs',\n",
       "  'Ġducks',\n",
       "  'Ġlay',\n",
       "  'Ġ',\n",
       "  '1',\n",
       "  '6',\n",
       "  'Ġeggs',\n",
       "  'Ġper',\n",
       "  'Ġday',\n",
       "  '.',\n",
       "  'ĠShe',\n",
       "  'Ġeats',\n",
       "  'Ġthree',\n",
       "  'Ġfor',\n",
       "  'Ġbreakfast',\n",
       "  'Ġevery',\n",
       "  'Ġmorning',\n",
       "  'Ġand',\n",
       "  'Ġb',\n",
       "  'akes',\n",
       "  'Ġmuff',\n",
       "  'ins',\n",
       "  'Ġfor',\n",
       "  'Ġher',\n",
       "  'Ġfriends',\n",
       "  'Ġevery',\n",
       "  'Ġday',\n",
       "  'Ġwith',\n",
       "  'Ġfour',\n",
       "  '.',\n",
       "  'ĠShe',\n",
       "  'Ġsells',\n",
       "  'Ġthe',\n",
       "  'Ġremainder',\n",
       "  'Ġat',\n",
       "  'Ġthe',\n",
       "  'Ġfarmers',\n",
       "  \"'\",\n",
       "  'Ġmarket',\n",
       "  'Ġdaily',\n",
       "  'Ġfor',\n",
       "  'Ġ$',\n",
       "  '2',\n",
       "  'Ġper',\n",
       "  'Ġfresh',\n",
       "  'Ġduck',\n",
       "  'Ġegg',\n",
       "  '.',\n",
       "  'ĠHow',\n",
       "  'Ġmuch',\n",
       "  'Ġin',\n",
       "  'Ġdollars',\n",
       "  'Ġdoes',\n",
       "  'Ġshe',\n",
       "  'Ġmake',\n",
       "  'Ġevery',\n",
       "  'Ġday',\n",
       "  'Ġat',\n",
       "  'Ġthe',\n",
       "  'Ġfarmers',\n",
       "  \"'\",\n",
       "  'Ġmarket',\n",
       "  '?',\n",
       "  'ĠThe',\n",
       "  'Ġfinal',\n",
       "  'Ġanswer',\n",
       "  'Ġshould',\n",
       "  'Ġbe',\n",
       "  'Ġprefixed',\n",
       "  'Ġwith',\n",
       "  'Ġ####',\n",
       "  'Ġand',\n",
       "  'Ġshould',\n",
       "  'Ġappear',\n",
       "  'Ġafter',\n",
       "  'Ġthe',\n",
       "  'Ġreasoning',\n",
       "  '<|im_end|>',\n",
       "  'Ċ',\n",
       "  '<|im_start|>',\n",
       "  'assistant',\n",
       "  'Ċ',\n",
       "  'Let',\n",
       "  'Ġme',\n",
       "  'Ġsolve',\n",
       "  'Ġthis',\n",
       "  'Ġstep',\n",
       "  'Ġby',\n",
       "  'Ġstep',\n",
       "  '.'],\n",
       " 'prefix_token_ids': [151644,\n",
       "  8948,\n",
       "  198,\n",
       "  2610,\n",
       "  525,\n",
       "  264,\n",
       "  10950,\n",
       "  17847,\n",
       "  13,\n",
       "  1446,\n",
       "  1156,\n",
       "  1744,\n",
       "  911,\n",
       "  279,\n",
       "  32711,\n",
       "  1882,\n",
       "  304,\n",
       "  697,\n",
       "  3971,\n",
       "  323,\n",
       "  1221,\n",
       "  3410,\n",
       "  279,\n",
       "  1196,\n",
       "  448,\n",
       "  279,\n",
       "  4226,\n",
       "  13,\n",
       "  151645,\n",
       "  198,\n",
       "  151644,\n",
       "  872,\n",
       "  198,\n",
       "  18315,\n",
       "  295,\n",
       "  748,\n",
       "  77778,\n",
       "  10962,\n",
       "  220,\n",
       "  16,\n",
       "  21,\n",
       "  18805,\n",
       "  817,\n",
       "  1899,\n",
       "  13,\n",
       "  2932,\n",
       "  49677,\n",
       "  2326,\n",
       "  369,\n",
       "  17496,\n",
       "  1449,\n",
       "  6556,\n",
       "  323,\n",
       "  293,\n",
       "  2050,\n",
       "  54304,\n",
       "  1330,\n",
       "  369,\n",
       "  1059,\n",
       "  4780,\n",
       "  1449,\n",
       "  1899,\n",
       "  448,\n",
       "  3040,\n",
       "  13,\n",
       "  2932,\n",
       "  30778,\n",
       "  279,\n",
       "  26313,\n",
       "  518,\n",
       "  279,\n",
       "  20336,\n",
       "  6,\n",
       "  3081,\n",
       "  7298,\n",
       "  369,\n",
       "  400,\n",
       "  17,\n",
       "  817,\n",
       "  7722,\n",
       "  35985,\n",
       "  18636,\n",
       "  13,\n",
       "  2585,\n",
       "  1753,\n",
       "  304,\n",
       "  11192,\n",
       "  1558,\n",
       "  1340,\n",
       "  1281,\n",
       "  1449,\n",
       "  1899,\n",
       "  518,\n",
       "  279,\n",
       "  20336,\n",
       "  6,\n",
       "  3081,\n",
       "  30,\n",
       "  576,\n",
       "  1590,\n",
       "  4226,\n",
       "  1265,\n",
       "  387,\n",
       "  81495,\n",
       "  448,\n",
       "  26274,\n",
       "  323,\n",
       "  1265,\n",
       "  4994,\n",
       "  1283,\n",
       "  279,\n",
       "  32711,\n",
       "  151645,\n",
       "  198,\n",
       "  151644,\n",
       "  77091,\n",
       "  198,\n",
       "  10061,\n",
       "  752,\n",
       "  11625,\n",
       "  419,\n",
       "  3019,\n",
       "  553,\n",
       "  3019,\n",
       "  13]}"
      ]
     },
     "execution_count": 45,
     "metadata": {},
     "output_type": "execute_result"
    }
   ],
   "source": [
    "encode_prefix(data.iloc[0].question)"
   ]
  },
  {
   "cell_type": "code",
   "execution_count": 47,
   "id": "f7e3ce39-675c-422e-9095-950ae31d77ed",
   "metadata": {},
   "outputs": [
    {
     "data": {
      "text/plain": [
       "{'question': \"Janet’s ducks lay 16 eggs per day. She eats three for breakfast every morning and bakes muffins for her friends every day with four. She sells the remainder at the farmers' market daily for $2 per fresh duck egg. How much in dollars does she make every day at the farmers' market?\",\n",
       " 'answer': 'Janet sells 16 - 3 - 4 = <<16-3-4=9>>9 duck eggs a day.\\nShe makes 9 * 2 = $<<9*2=18>>18 every day at the farmer’s market.\\n#### 18'}"
      ]
     },
     "execution_count": 47,
     "metadata": {},
     "output_type": "execute_result"
    }
   ],
   "source": [
    "data.iloc[0].to_dict()"
   ]
  },
  {
   "cell_type": "code",
   "execution_count": null,
   "id": "569e8565-18d3-4874-8500-eaf7c4e2badf",
   "metadata": {},
   "outputs": [],
   "source": []
  }
 ],
 "metadata": {
  "kernelspec": {
   "display_name": "Python 3 (ipykernel)",
   "language": "python",
   "name": "python3"
  },
  "language_info": {
   "codemirror_mode": {
    "name": "ipython",
    "version": 3
   },
   "file_extension": ".py",
   "mimetype": "text/x-python",
   "name": "python",
   "nbconvert_exporter": "python",
   "pygments_lexer": "ipython3",
   "version": "3.10.12"
  }
 },
 "nbformat": 4,
 "nbformat_minor": 5
}
